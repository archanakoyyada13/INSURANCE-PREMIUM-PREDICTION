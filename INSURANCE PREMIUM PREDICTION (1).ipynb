{
 "cells": [
  {
   "cell_type": "code",
   "execution_count": 1,
   "id": "02641c61",
   "metadata": {},
   "outputs": [],
   "source": [
    "import numpy as np\n",
    "import pandas as pd\n",
    "import seaborn as sns\n",
    "import matplotlib.pyplot as plt"
   ]
  },
  {
   "cell_type": "code",
   "execution_count": 2,
   "id": "19357083",
   "metadata": {},
   "outputs": [
    {
     "data": {
      "text/html": [
       "<div>\n",
       "<style scoped>\n",
       "    .dataframe tbody tr th:only-of-type {\n",
       "        vertical-align: middle;\n",
       "    }\n",
       "\n",
       "    .dataframe tbody tr th {\n",
       "        vertical-align: top;\n",
       "    }\n",
       "\n",
       "    .dataframe thead th {\n",
       "        text-align: right;\n",
       "    }\n",
       "</style>\n",
       "<table border=\"1\" class=\"dataframe\">\n",
       "  <thead>\n",
       "    <tr style=\"text-align: right;\">\n",
       "      <th></th>\n",
       "      <th>age</th>\n",
       "      <th>sex</th>\n",
       "      <th>bmi</th>\n",
       "      <th>children</th>\n",
       "      <th>smoker</th>\n",
       "      <th>region</th>\n",
       "      <th>charges</th>\n",
       "    </tr>\n",
       "  </thead>\n",
       "  <tbody>\n",
       "    <tr>\n",
       "      <th>0</th>\n",
       "      <td>19</td>\n",
       "      <td>female</td>\n",
       "      <td>27.900</td>\n",
       "      <td>0</td>\n",
       "      <td>yes</td>\n",
       "      <td>southwest</td>\n",
       "      <td>16884.92400</td>\n",
       "    </tr>\n",
       "    <tr>\n",
       "      <th>1</th>\n",
       "      <td>18</td>\n",
       "      <td>male</td>\n",
       "      <td>33.770</td>\n",
       "      <td>1</td>\n",
       "      <td>no</td>\n",
       "      <td>southeast</td>\n",
       "      <td>1725.55230</td>\n",
       "    </tr>\n",
       "    <tr>\n",
       "      <th>2</th>\n",
       "      <td>28</td>\n",
       "      <td>male</td>\n",
       "      <td>33.000</td>\n",
       "      <td>3</td>\n",
       "      <td>no</td>\n",
       "      <td>southeast</td>\n",
       "      <td>4449.46200</td>\n",
       "    </tr>\n",
       "    <tr>\n",
       "      <th>3</th>\n",
       "      <td>33</td>\n",
       "      <td>male</td>\n",
       "      <td>22.705</td>\n",
       "      <td>0</td>\n",
       "      <td>no</td>\n",
       "      <td>northwest</td>\n",
       "      <td>21984.47061</td>\n",
       "    </tr>\n",
       "    <tr>\n",
       "      <th>4</th>\n",
       "      <td>32</td>\n",
       "      <td>male</td>\n",
       "      <td>28.880</td>\n",
       "      <td>0</td>\n",
       "      <td>no</td>\n",
       "      <td>northwest</td>\n",
       "      <td>3866.85520</td>\n",
       "    </tr>\n",
       "    <tr>\n",
       "      <th>...</th>\n",
       "      <td>...</td>\n",
       "      <td>...</td>\n",
       "      <td>...</td>\n",
       "      <td>...</td>\n",
       "      <td>...</td>\n",
       "      <td>...</td>\n",
       "      <td>...</td>\n",
       "    </tr>\n",
       "    <tr>\n",
       "      <th>1333</th>\n",
       "      <td>50</td>\n",
       "      <td>male</td>\n",
       "      <td>30.970</td>\n",
       "      <td>3</td>\n",
       "      <td>no</td>\n",
       "      <td>northwest</td>\n",
       "      <td>10600.54830</td>\n",
       "    </tr>\n",
       "    <tr>\n",
       "      <th>1334</th>\n",
       "      <td>18</td>\n",
       "      <td>female</td>\n",
       "      <td>31.920</td>\n",
       "      <td>0</td>\n",
       "      <td>no</td>\n",
       "      <td>northeast</td>\n",
       "      <td>2205.98080</td>\n",
       "    </tr>\n",
       "    <tr>\n",
       "      <th>1335</th>\n",
       "      <td>18</td>\n",
       "      <td>female</td>\n",
       "      <td>36.850</td>\n",
       "      <td>0</td>\n",
       "      <td>no</td>\n",
       "      <td>southeast</td>\n",
       "      <td>1629.83350</td>\n",
       "    </tr>\n",
       "    <tr>\n",
       "      <th>1336</th>\n",
       "      <td>21</td>\n",
       "      <td>female</td>\n",
       "      <td>25.800</td>\n",
       "      <td>0</td>\n",
       "      <td>no</td>\n",
       "      <td>southwest</td>\n",
       "      <td>2007.94500</td>\n",
       "    </tr>\n",
       "    <tr>\n",
       "      <th>1337</th>\n",
       "      <td>61</td>\n",
       "      <td>female</td>\n",
       "      <td>29.070</td>\n",
       "      <td>0</td>\n",
       "      <td>yes</td>\n",
       "      <td>northwest</td>\n",
       "      <td>29141.36030</td>\n",
       "    </tr>\n",
       "  </tbody>\n",
       "</table>\n",
       "<p>1338 rows × 7 columns</p>\n",
       "</div>"
      ],
      "text/plain": [
       "      age     sex     bmi  children smoker     region      charges\n",
       "0      19  female  27.900         0    yes  southwest  16884.92400\n",
       "1      18    male  33.770         1     no  southeast   1725.55230\n",
       "2      28    male  33.000         3     no  southeast   4449.46200\n",
       "3      33    male  22.705         0     no  northwest  21984.47061\n",
       "4      32    male  28.880         0     no  northwest   3866.85520\n",
       "...   ...     ...     ...       ...    ...        ...          ...\n",
       "1333   50    male  30.970         3     no  northwest  10600.54830\n",
       "1334   18  female  31.920         0     no  northeast   2205.98080\n",
       "1335   18  female  36.850         0     no  southeast   1629.83350\n",
       "1336   21  female  25.800         0     no  southwest   2007.94500\n",
       "1337   61  female  29.070         0    yes  northwest  29141.36030\n",
       "\n",
       "[1338 rows x 7 columns]"
      ]
     },
     "execution_count": 2,
     "metadata": {},
     "output_type": "execute_result"
    }
   ],
   "source": [
    "df= pd.read_csv(r\"C:\\Users\\91918\\Downloads\\insurance.csv\")\n",
    "df"
   ]
  },
  {
   "cell_type": "code",
   "execution_count": 3,
   "id": "3cb7e2df",
   "metadata": {},
   "outputs": [
    {
     "data": {
      "text/plain": [
       "age         0\n",
       "sex         0\n",
       "bmi         0\n",
       "children    0\n",
       "smoker      0\n",
       "region      0\n",
       "charges     0\n",
       "dtype: int64"
      ]
     },
     "execution_count": 3,
     "metadata": {},
     "output_type": "execute_result"
    }
   ],
   "source": [
    "df.isnull().sum()"
   ]
  },
  {
   "cell_type": "code",
   "execution_count": 4,
   "id": "6cabe8b0",
   "metadata": {},
   "outputs": [
    {
     "data": {
      "text/html": [
       "<div>\n",
       "<style scoped>\n",
       "    .dataframe tbody tr th:only-of-type {\n",
       "        vertical-align: middle;\n",
       "    }\n",
       "\n",
       "    .dataframe tbody tr th {\n",
       "        vertical-align: top;\n",
       "    }\n",
       "\n",
       "    .dataframe thead th {\n",
       "        text-align: right;\n",
       "    }\n",
       "</style>\n",
       "<table border=\"1\" class=\"dataframe\">\n",
       "  <thead>\n",
       "    <tr style=\"text-align: right;\">\n",
       "      <th></th>\n",
       "      <th>age</th>\n",
       "      <th>bmi</th>\n",
       "      <th>children</th>\n",
       "      <th>charges</th>\n",
       "    </tr>\n",
       "  </thead>\n",
       "  <tbody>\n",
       "    <tr>\n",
       "      <th>count</th>\n",
       "      <td>1338.000000</td>\n",
       "      <td>1338.000000</td>\n",
       "      <td>1338.000000</td>\n",
       "      <td>1338.000000</td>\n",
       "    </tr>\n",
       "    <tr>\n",
       "      <th>mean</th>\n",
       "      <td>39.207025</td>\n",
       "      <td>30.663397</td>\n",
       "      <td>1.094918</td>\n",
       "      <td>13270.422265</td>\n",
       "    </tr>\n",
       "    <tr>\n",
       "      <th>std</th>\n",
       "      <td>14.049960</td>\n",
       "      <td>6.098187</td>\n",
       "      <td>1.205493</td>\n",
       "      <td>12110.011237</td>\n",
       "    </tr>\n",
       "    <tr>\n",
       "      <th>min</th>\n",
       "      <td>18.000000</td>\n",
       "      <td>15.960000</td>\n",
       "      <td>0.000000</td>\n",
       "      <td>1121.873900</td>\n",
       "    </tr>\n",
       "    <tr>\n",
       "      <th>25%</th>\n",
       "      <td>27.000000</td>\n",
       "      <td>26.296250</td>\n",
       "      <td>0.000000</td>\n",
       "      <td>4740.287150</td>\n",
       "    </tr>\n",
       "    <tr>\n",
       "      <th>50%</th>\n",
       "      <td>39.000000</td>\n",
       "      <td>30.400000</td>\n",
       "      <td>1.000000</td>\n",
       "      <td>9382.033000</td>\n",
       "    </tr>\n",
       "    <tr>\n",
       "      <th>75%</th>\n",
       "      <td>51.000000</td>\n",
       "      <td>34.693750</td>\n",
       "      <td>2.000000</td>\n",
       "      <td>16639.912515</td>\n",
       "    </tr>\n",
       "    <tr>\n",
       "      <th>max</th>\n",
       "      <td>64.000000</td>\n",
       "      <td>53.130000</td>\n",
       "      <td>5.000000</td>\n",
       "      <td>63770.428010</td>\n",
       "    </tr>\n",
       "  </tbody>\n",
       "</table>\n",
       "</div>"
      ],
      "text/plain": [
       "               age          bmi     children       charges\n",
       "count  1338.000000  1338.000000  1338.000000   1338.000000\n",
       "mean     39.207025    30.663397     1.094918  13270.422265\n",
       "std      14.049960     6.098187     1.205493  12110.011237\n",
       "min      18.000000    15.960000     0.000000   1121.873900\n",
       "25%      27.000000    26.296250     0.000000   4740.287150\n",
       "50%      39.000000    30.400000     1.000000   9382.033000\n",
       "75%      51.000000    34.693750     2.000000  16639.912515\n",
       "max      64.000000    53.130000     5.000000  63770.428010"
      ]
     },
     "execution_count": 4,
     "metadata": {},
     "output_type": "execute_result"
    }
   ],
   "source": [
    "df.describe()"
   ]
  },
  {
   "cell_type": "code",
   "execution_count": 5,
   "id": "8a1dcf3f",
   "metadata": {},
   "outputs": [
    {
     "data": {
      "text/plain": [
       "<AxesSubplot:xlabel='sex', ylabel='count'>"
      ]
     },
     "execution_count": 5,
     "metadata": {},
     "output_type": "execute_result"
    },
    {
     "data": {
      "image/png": "[encoded data removed]",
      "text/plain": [
       "<Figure size 432x288 with 1 Axes>"
      ]
     },
     "metadata": {},
     "output_type": "display_data"
    }
   ],
   "source": [
    "sns.set_style('whitegrid')\n",
    "sns.countplot(x='sex',data=df)"
   ]
  },
  {
   "cell_type": "code",
   "execution_count": 6,
   "id": "922eaa5b",
   "metadata": {},
   "outputs": [
    {
     "name": "stderr",
     "output_type": "stream",
     "text": [
      "C:\\ana\\archana\\lib\\site-packages\\seaborn\\_decorators.py:36: FutureWarning: Pass the following variable as a keyword arg: x. From version 0.12, the only valid positional argument will be `data`, and passing other arguments without an explicit keyword will result in an error or misinterpretation.\n",
      "  warnings.warn(\n"
     ]
    },
    {
     "data": {
      "image/png": "[encoded data removed]",
      "text/plain": [
       "<Figure size 1152x432 with 1 Axes>"
      ]
     },
     "metadata": {},
     "output_type": "display_data"
    }
   ],
   "source": [
    "plt.figure(figsize=(16,6))\n",
    "plt.style.use('fivethirtyeight')\n",
    "ax=sns.countplot('region',data=df,palette='dark',)\n",
    "ax.set_xlabel(xlabel='Type',fontsize=18)\n",
    "ax.set_ylabel(ylabel='Total people in Region',fontsize=18)\n",
    "ax.set_title(label='Region',fontsize=20)\n",
    "plt.show()"
   ]
  },
  {
   "cell_type": "code",
   "execution_count": 7,
   "id": "35823e41",
   "metadata": {},
   "outputs": [
    {
     "data": {
      "text/plain": [
       "<seaborn.axisgrid.FacetGrid at 0x18edc1627c0>"
      ]
     },
     "execution_count": 7,
     "metadata": {},
     "output_type": "execute_result"
    },
    {
     "data": {
      "image/png": "[encoded data removed]",
      "text/plain": [
       "<Figure size 432.15x360 with 1 Axes>"
      ]
     },
     "metadata": {},
     "output_type": "display_data"
    }
   ],
   "source": [
    "sns.relplot(x='charges',y='bmi',data=df,hue='smoker')"
   ]
  },
  {
   "cell_type": "code",
   "execution_count": null,
   "id": "e7bbc5c3",
   "metadata": {},
   "outputs": [],
   "source": [
    "sns.relplot(x='charges',y='bmi',hue='smoker',col='sex',data=df)"
   ]
  },
  {
   "cell_type": "code",
   "execution_count": null,
   "id": "4febc8d5",
   "metadata": {},
   "outputs": [],
   "source": [
    "g=sns.catplot(x='region',y='charges',data=df)\n",
    "g.set_xticklabels(rotation=45)"
   ]
  },
  {
   "cell_type": "code",
   "execution_count": 8,
   "id": "e7b37b4c",
   "metadata": {},
   "outputs": [],
   "source": [
    "Age_Group_0_10=0\n",
    "Age_Group_11_20=0\n",
    "Age_Group_21_30=0\n",
    "Age_Group_31_40=0\n",
    "Age_Group_41_50=0\n",
    "Age_Group_51_60=0\n",
    "Age_Group_61_70=0\n",
    "\n",
    "for i in range(len(df)):\n",
    "    if df.loc[i,'age']>0 and df.loc[i,'age']<=10:\n",
    "        Age_Group_0_10 +=1\n",
    "    elif df.loc[i,'age']>10 and df.loc[i,'age']<=20:\n",
    "        Age_Group_11_20 +=1\n",
    "    elif df.loc[i,'age']>20 and df.loc[i,'age']<=30:\n",
    "        Age_Group_21_30 +=1\n",
    "    elif df.loc[i,'age']>30 and df.loc[i,'age']<=40:\n",
    "        Age_Group_31_40 +=1        \n",
    "    elif df.loc[i,'age']>40 and df.loc[i,'age']<=50:\n",
    "        Age_Group_41_50 +=1  \n",
    "    elif df.loc[i,'age']>50 and df.loc[i,'age']<=60:\n",
    "        Age_Group_51_60 +=1    \n",
    "    else:\n",
    "        Age_Group_61_70 +=1"
   ]
  },
  {
   "cell_type": "code",
   "execution_count": 9,
   "id": "0b469701",
   "metadata": {},
   "outputs": [],
   "source": [
    "Age_dict = {'Age_Group':['Age(0-10)','Age(11-20)','Age(21-30)','(Age31-40)',\n",
    "            'Age(41-50)','Age(51-60)','Age(61-70)'],\n",
    "            'Count':[Age_Group_0_10,Age_Group_11_20,Age_Group_21_30,\n",
    "                    Age_Group_31_40,Age_Group_41_50,Age_Group_51_60,\n",
    "                    Age_Group_61_70]\n",
    "           }"
   ]
  },
  {
   "cell_type": "code",
   "execution_count": 10,
   "id": "3219b9db",
   "metadata": {},
   "outputs": [
    {
     "data": {
      "text/html": [
       "<div>\n",
       "<style scoped>\n",
       "    .dataframe tbody tr th:only-of-type {\n",
       "        vertical-align: middle;\n",
       "    }\n",
       "\n",
       "    .dataframe tbody tr th {\n",
       "        vertical-align: top;\n",
       "    }\n",
       "\n",
       "    .dataframe thead th {\n",
       "        text-align: right;\n",
       "    }\n",
       "</style>\n",
       "<table border=\"1\" class=\"dataframe\">\n",
       "  <thead>\n",
       "    <tr style=\"text-align: right;\">\n",
       "      <th></th>\n",
       "      <th>Age_Group</th>\n",
       "      <th>Count</th>\n",
       "    </tr>\n",
       "  </thead>\n",
       "  <tbody>\n",
       "    <tr>\n",
       "      <th>0</th>\n",
       "      <td>Age(0-10)</td>\n",
       "      <td>0</td>\n",
       "    </tr>\n",
       "    <tr>\n",
       "      <th>1</th>\n",
       "      <td>Age(11-20)</td>\n",
       "      <td>166</td>\n",
       "    </tr>\n",
       "    <tr>\n",
       "      <th>2</th>\n",
       "      <td>Age(21-30)</td>\n",
       "      <td>278</td>\n",
       "    </tr>\n",
       "    <tr>\n",
       "      <th>3</th>\n",
       "      <td>(Age31-40)</td>\n",
       "      <td>257</td>\n",
       "    </tr>\n",
       "    <tr>\n",
       "      <th>4</th>\n",
       "      <td>Age(41-50)</td>\n",
       "      <td>281</td>\n",
       "    </tr>\n",
       "    <tr>\n",
       "      <th>5</th>\n",
       "      <td>Age(51-60)</td>\n",
       "      <td>265</td>\n",
       "    </tr>\n",
       "    <tr>\n",
       "      <th>6</th>\n",
       "      <td>Age(61-70)</td>\n",
       "      <td>91</td>\n",
       "    </tr>\n",
       "  </tbody>\n",
       "</table>\n",
       "</div>"
      ],
      "text/plain": [
       "    Age_Group  Count\n",
       "0   Age(0-10)      0\n",
       "1  Age(11-20)    166\n",
       "2  Age(21-30)    278\n",
       "3  (Age31-40)    257\n",
       "4  Age(41-50)    281\n",
       "5  Age(51-60)    265\n",
       "6  Age(61-70)     91"
      ]
     },
     "execution_count": 10,
     "metadata": {},
     "output_type": "execute_result"
    }
   ],
   "source": [
    "df2 = pd.DataFrame(Age_dict)\n",
    "df2"
   ]
  },
  {
   "cell_type": "code",
   "execution_count": 11,
   "id": "e9fafcec",
   "metadata": {},
   "outputs": [
    {
     "data": {
      "image/png": "[encoded data removed]",
      "text/plain": [
       "<Figure size 720x720 with 1 Axes>"
      ]
     },
     "metadata": {},
     "output_type": "display_data"
    }
   ],
   "source": [
    "plt.figure(figsize=(10,10))\n",
    "plt.title(\"Pie Chart of Age Group Distribution opting for Insurance Premium\",fontsize=20)\n",
    "plt.pie(df2['Count'],labels=df2['Age_Group'],autopct='%1.1f%%',wedgeprops={'edgecolor':'black'})\n",
    "plt.show()"
   ]
  },
  {
   "cell_type": "code",
   "execution_count": 12,
   "id": "adf063ce",
   "metadata": {},
   "outputs": [
    {
     "data": {
      "text/plain": [
       "['age', 'bmi', 'children', 'charges']"
      ]
     },
     "execution_count": 12,
     "metadata": {},
     "output_type": "execute_result"
    }
   ],
   "source": [
    "numerical_features=[feature for feature in df.columns if df[feature].dtypes!='O']\n",
    "numerical_features"
   ]
  },
  {
   "cell_type": "code",
   "execution_count": 13,
   "id": "6195671e",
   "metadata": {},
   "outputs": [
    {
     "data": {
      "text/plain": [
       "['sex', 'smoker', 'region']"
      ]
     },
     "execution_count": 13,
     "metadata": {},
     "output_type": "execute_result"
    }
   ],
   "source": [
    "categorical_features=[feature for feature in df.columns if df[feature].dtypes=='O']\n",
    "categorical_features"
   ]
  },
  {
   "cell_type": "code",
   "execution_count": 14,
   "id": "ca4c033c",
   "metadata": {},
   "outputs": [
    {
     "name": "stdout",
     "output_type": "stream",
     "text": [
      "The feature is sex and number of categories are 2\n",
      "The feature is smoker and number of categories are 2\n",
      "The feature is region and number of categories are 4\n"
     ]
    }
   ],
   "source": [
    "for feature in categorical_features:\n",
    "    print('The feature is {} and number of categories are {}'.format(feature,len(df[feature].unique())))"
   ]
  },
  {
   "cell_type": "code",
   "execution_count": 16,
   "id": "b958c6f7",
   "metadata": {},
   "outputs": [],
   "source": [
    "from sklearn.preprocessing import LabelEncoder\n",
    "lbl_encoders={}\n",
    "for feature in categorical_features:\n",
    "    lbl_encoders[feature]=LabelEncoder()\n",
    "    df[feature]=lbl_encoders[feature].fit_transform(df[feature])"
   ]
  },
  {
   "cell_type": "code",
   "execution_count": 17,
   "id": "32d623c3",
   "metadata": {},
   "outputs": [
    {
     "data": {
      "text/html": [
       "<style>#sk-container-id-1 {color: black;background-color: white;}#sk-container-id-1 pre{padding: 0;}#sk-container-id-1 div.sk-toggleable {background-color: white;}#sk-container-id-1 label.sk-toggleable__label {cursor: pointer;display: block;width: 100%;margin-bottom: 0;padding: 0.3em;box-sizing: border-box;text-align: center;}#sk-container-id-1 label.sk-toggleable__label-arrow:before {content: \"▸\";float: left;margin-right: 0.25em;color: #696969;}#sk-container-id-1 label.sk-toggleable__label-arrow:hover:before {color: black;}#sk-container-id-1 div.sk-estimator:hover label.sk-toggleable__label-arrow:before {color: black;}#sk-container-id-1 div.sk-toggleable__content {max-height: 0;max-width: 0;overflow: hidden;text-align: left;background-color: #f0f8ff;}#sk-container-id-1 div.sk-toggleable__content pre {margin: 0.2em;color: black;border-radius: 0.25em;background-color: #f0f8ff;}#sk-container-id-1 input.sk-toggleable__control:checked~div.sk-toggleable__content {max-height: 200px;max-width: 100%;overflow: auto;}#sk-container-id-1 input.sk-toggleable__control:checked~label.sk-toggleable__label-arrow:before {content: \"▾\";}#sk-container-id-1 div.sk-estimator input.sk-toggleable__control:checked~label.sk-toggleable__label {background-color: #d4ebff;}#sk-container-id-1 div.sk-label input.sk-toggleable__control:checked~label.sk-toggleable__label {background-color: #d4ebff;}#sk-container-id-1 input.sk-hidden--visually {border: 0;clip: rect(1px 1px 1px 1px);clip: rect(1px, 1px, 1px, 1px);height: 1px;margin: -1px;overflow: hidden;padding: 0;position: absolute;width: 1px;}#sk-container-id-1 div.sk-estimator {font-family: monospace;background-color: #f0f8ff;border: 1px dotted black;border-radius: 0.25em;box-sizing: border-box;margin-bottom: 0.5em;}#sk-container-id-1 div.sk-estimator:hover {background-color: #d4ebff;}#sk-container-id-1 div.sk-parallel-item::after {content: \"\";width: 100%;border-bottom: 1px solid gray;flex-grow: 1;}#sk-container-id-1 div.sk-label:hover label.sk-toggleable__label {background-color: #d4ebff;}#sk-container-id-1 div.sk-serial::before {content: \"\";position: absolute;border-left: 1px solid gray;box-sizing: border-box;top: 0;bottom: 0;left: 50%;z-index: 0;}#sk-container-id-1 div.sk-serial {display: flex;flex-direction: column;align-items: center;background-color: white;padding-right: 0.2em;padding-left: 0.2em;position: relative;}#sk-container-id-1 div.sk-item {position: relative;z-index: 1;}#sk-container-id-1 div.sk-parallel {display: flex;align-items: stretch;justify-content: center;background-color: white;position: relative;}#sk-container-id-1 div.sk-item::before, #sk-container-id-1 div.sk-parallel-item::before {content: \"\";position: absolute;border-left: 1px solid gray;box-sizing: border-box;top: 0;bottom: 0;left: 50%;z-index: -1;}#sk-container-id-1 div.sk-parallel-item {display: flex;flex-direction: column;z-index: 1;position: relative;background-color: white;}#sk-container-id-1 div.sk-parallel-item:first-child::after {align-self: flex-end;width: 50%;}#sk-container-id-1 div.sk-parallel-item:last-child::after {align-self: flex-start;width: 50%;}#sk-container-id-1 div.sk-parallel-item:only-child::after {width: 0;}#sk-container-id-1 div.sk-dashed-wrapped {border: 1px dashed gray;margin: 0 0.4em 0.5em 0.4em;box-sizing: border-box;padding-bottom: 0.4em;background-color: white;}#sk-container-id-1 div.sk-label label {font-family: monospace;font-weight: bold;display: inline-block;line-height: 1.2em;}#sk-container-id-1 div.sk-label-container {text-align: center;}#sk-container-id-1 div.sk-container {/* jupyter's `normalize.less` sets `[hidden] { display: none; }` but bootstrap.min.css set `[hidden] { display: none !important; }` so we also need the `!important` here to be able to override the default hidden behavior on the sphinx rendered scikit-learn.org. See: https://github.com/scikit-learn/scikit-learn/issues/21755 */display: inline-block !important;position: relative;}#sk-container-id-1 div.sk-text-repr-fallback {display: none;}</style><div id=\"sk-container-id-1\" class=\"sk-top-container\"><div class=\"sk-text-repr-fallback\"><pre>OneHotEncoder(drop=&#x27;first&#x27;, sparse=False)</pre><b>In a Jupyter environment, please rerun this cell to show the HTML representation or trust the notebook. <br />On GitHub, the HTML representation is unable to render, please try loading this page with nbviewer.org.</b></div><div class=\"sk-container\" hidden><div class=\"sk-item\"><div class=\"sk-estimator sk-toggleable\"><input class=\"sk-toggleable__control sk-hidden--visually\" id=\"sk-estimator-id-1\" type=\"checkbox\" checked><label for=\"sk-estimator-id-1\" class=\"sk-toggleable__label sk-toggleable__label-arrow\">OneHotEncoder</label><div class=\"sk-toggleable__content\"><pre>OneHotEncoder(drop=&#x27;first&#x27;, sparse=False)</pre></div></div></div></div></div>"
      ],
      "text/plain": [
       "OneHotEncoder(drop='first', sparse=False)"
      ]
     },
     "execution_count": 17,
     "metadata": {},
     "output_type": "execute_result"
    }
   ],
   "source": [
    "from sklearn.preprocessing import OneHotEncoder\n",
    "oe =OneHotEncoder(sparse=False,handle_unknown=\"error\",drop=\"first\")\n",
    "oe"
   ]
  },
  {
   "cell_type": "code",
   "execution_count": 18,
   "id": "411c881e",
   "metadata": {},
   "outputs": [],
   "source": [
    "ohe = OneHotEncoder()\n",
    "a = ohe.fit_transform(df.region.values.reshape(-1,1)).toarray()\n",
    "OHE = pd.DataFrame(a, columns = [\"southwest\",\"southeast\",\"northwest\",\"northeeast\"])\n",
    "df = pd.concat([df, OHE], axis=1)\n",
    "df = df.drop(\"region\",axis = 1)"
   ]
  },
  {
   "cell_type": "code",
   "execution_count": 19,
   "id": "e18ddf36",
   "metadata": {},
   "outputs": [],
   "source": [
    "a = ohe.fit_transform(df.smoker.values.reshape(-1,1)).toarray()\n",
    "OHE = pd.DataFrame(a, columns = [\"yes\",\"no\"])\n",
    "df = pd.concat([df, OHE], axis=1)\n",
    "df = df.drop(\"smoker\",axis = 1)"
   ]
  },
  {
   "cell_type": "code",
   "execution_count": 20,
   "id": "2b220823",
   "metadata": {},
   "outputs": [],
   "source": [
    "a = ohe.fit_transform(df.sex.values.reshape(-1,1)).toarray()\n",
    "OHE = pd.DataFrame(a, columns = [\"female\",\"male\"])\n",
    "df = pd.concat([df, OHE], axis=1)\n",
    "df = df.drop(\"sex\",axis = 1)"
   ]
  },
  {
   "cell_type": "code",
   "execution_count": 21,
   "id": "99e7411e",
   "metadata": {},
   "outputs": [
    {
     "data": {
      "text/html": [
       "<div>\n",
       "<style scoped>\n",
       "    .dataframe tbody tr th:only-of-type {\n",
       "        vertical-align: middle;\n",
       "    }\n",
       "\n",
       "    .dataframe tbody tr th {\n",
       "        vertical-align: top;\n",
       "    }\n",
       "\n",
       "    .dataframe thead th {\n",
       "        text-align: right;\n",
       "    }\n",
       "</style>\n",
       "<table border=\"1\" class=\"dataframe\">\n",
       "  <thead>\n",
       "    <tr style=\"text-align: right;\">\n",
       "      <th></th>\n",
       "      <th>age</th>\n",
       "      <th>bmi</th>\n",
       "      <th>children</th>\n",
       "      <th>charges</th>\n",
       "      <th>southwest</th>\n",
       "      <th>southeast</th>\n",
       "      <th>northwest</th>\n",
       "      <th>northeeast</th>\n",
       "      <th>yes</th>\n",
       "      <th>no</th>\n",
       "      <th>female</th>\n",
       "      <th>male</th>\n",
       "    </tr>\n",
       "  </thead>\n",
       "  <tbody>\n",
       "    <tr>\n",
       "      <th>0</th>\n",
       "      <td>19</td>\n",
       "      <td>27.900</td>\n",
       "      <td>0</td>\n",
       "      <td>16884.92400</td>\n",
       "      <td>0.0</td>\n",
       "      <td>0.0</td>\n",
       "      <td>0.0</td>\n",
       "      <td>1.0</td>\n",
       "      <td>0.0</td>\n",
       "      <td>1.0</td>\n",
       "      <td>1.0</td>\n",
       "      <td>0.0</td>\n",
       "    </tr>\n",
       "    <tr>\n",
       "      <th>1</th>\n",
       "      <td>18</td>\n",
       "      <td>33.770</td>\n",
       "      <td>1</td>\n",
       "      <td>1725.55230</td>\n",
       "      <td>0.0</td>\n",
       "      <td>0.0</td>\n",
       "      <td>1.0</td>\n",
       "      <td>0.0</td>\n",
       "      <td>1.0</td>\n",
       "      <td>0.0</td>\n",
       "      <td>0.0</td>\n",
       "      <td>1.0</td>\n",
       "    </tr>\n",
       "    <tr>\n",
       "      <th>2</th>\n",
       "      <td>28</td>\n",
       "      <td>33.000</td>\n",
       "      <td>3</td>\n",
       "      <td>4449.46200</td>\n",
       "      <td>0.0</td>\n",
       "      <td>0.0</td>\n",
       "      <td>1.0</td>\n",
       "      <td>0.0</td>\n",
       "      <td>1.0</td>\n",
       "      <td>0.0</td>\n",
       "      <td>0.0</td>\n",
       "      <td>1.0</td>\n",
       "    </tr>\n",
       "    <tr>\n",
       "      <th>3</th>\n",
       "      <td>33</td>\n",
       "      <td>22.705</td>\n",
       "      <td>0</td>\n",
       "      <td>21984.47061</td>\n",
       "      <td>0.0</td>\n",
       "      <td>1.0</td>\n",
       "      <td>0.0</td>\n",
       "      <td>0.0</td>\n",
       "      <td>1.0</td>\n",
       "      <td>0.0</td>\n",
       "      <td>0.0</td>\n",
       "      <td>1.0</td>\n",
       "    </tr>\n",
       "    <tr>\n",
       "      <th>4</th>\n",
       "      <td>32</td>\n",
       "      <td>28.880</td>\n",
       "      <td>0</td>\n",
       "      <td>3866.85520</td>\n",
       "      <td>0.0</td>\n",
       "      <td>1.0</td>\n",
       "      <td>0.0</td>\n",
       "      <td>0.0</td>\n",
       "      <td>1.0</td>\n",
       "      <td>0.0</td>\n",
       "      <td>0.0</td>\n",
       "      <td>1.0</td>\n",
       "    </tr>\n",
       "    <tr>\n",
       "      <th>...</th>\n",
       "      <td>...</td>\n",
       "      <td>...</td>\n",
       "      <td>...</td>\n",
       "      <td>...</td>\n",
       "      <td>...</td>\n",
       "      <td>...</td>\n",
       "      <td>...</td>\n",
       "      <td>...</td>\n",
       "      <td>...</td>\n",
       "      <td>...</td>\n",
       "      <td>...</td>\n",
       "      <td>...</td>\n",
       "    </tr>\n",
       "    <tr>\n",
       "      <th>1333</th>\n",
       "      <td>50</td>\n",
       "      <td>30.970</td>\n",
       "      <td>3</td>\n",
       "      <td>10600.54830</td>\n",
       "      <td>0.0</td>\n",
       "      <td>1.0</td>\n",
       "      <td>0.0</td>\n",
       "      <td>0.0</td>\n",
       "      <td>1.0</td>\n",
       "      <td>0.0</td>\n",
       "      <td>0.0</td>\n",
       "      <td>1.0</td>\n",
       "    </tr>\n",
       "    <tr>\n",
       "      <th>1334</th>\n",
       "      <td>18</td>\n",
       "      <td>31.920</td>\n",
       "      <td>0</td>\n",
       "      <td>2205.98080</td>\n",
       "      <td>1.0</td>\n",
       "      <td>0.0</td>\n",
       "      <td>0.0</td>\n",
       "      <td>0.0</td>\n",
       "      <td>1.0</td>\n",
       "      <td>0.0</td>\n",
       "      <td>1.0</td>\n",
       "      <td>0.0</td>\n",
       "    </tr>\n",
       "    <tr>\n",
       "      <th>1335</th>\n",
       "      <td>18</td>\n",
       "      <td>36.850</td>\n",
       "      <td>0</td>\n",
       "      <td>1629.83350</td>\n",
       "      <td>0.0</td>\n",
       "      <td>0.0</td>\n",
       "      <td>1.0</td>\n",
       "      <td>0.0</td>\n",
       "      <td>1.0</td>\n",
       "      <td>0.0</td>\n",
       "      <td>1.0</td>\n",
       "      <td>0.0</td>\n",
       "    </tr>\n",
       "    <tr>\n",
       "      <th>1336</th>\n",
       "      <td>21</td>\n",
       "      <td>25.800</td>\n",
       "      <td>0</td>\n",
       "      <td>2007.94500</td>\n",
       "      <td>0.0</td>\n",
       "      <td>0.0</td>\n",
       "      <td>0.0</td>\n",
       "      <td>1.0</td>\n",
       "      <td>1.0</td>\n",
       "      <td>0.0</td>\n",
       "      <td>1.0</td>\n",
       "      <td>0.0</td>\n",
       "    </tr>\n",
       "    <tr>\n",
       "      <th>1337</th>\n",
       "      <td>61</td>\n",
       "      <td>29.070</td>\n",
       "      <td>0</td>\n",
       "      <td>29141.36030</td>\n",
       "      <td>0.0</td>\n",
       "      <td>1.0</td>\n",
       "      <td>0.0</td>\n",
       "      <td>0.0</td>\n",
       "      <td>0.0</td>\n",
       "      <td>1.0</td>\n",
       "      <td>1.0</td>\n",
       "      <td>0.0</td>\n",
       "    </tr>\n",
       "  </tbody>\n",
       "</table>\n",
       "<p>1338 rows × 12 columns</p>\n",
       "</div>"
      ],
      "text/plain": [
       "      age     bmi  children      charges  southwest  southeast  northwest  \\\n",
       "0      19  27.900         0  16884.92400        0.0        0.0        0.0   \n",
       "1      18  33.770         1   1725.55230        0.0        0.0        1.0   \n",
       "2      28  33.000         3   4449.46200        0.0        0.0        1.0   \n",
       "3      33  22.705         0  21984.47061        0.0        1.0        0.0   \n",
       "4      32  28.880         0   3866.85520        0.0        1.0        0.0   \n",
       "...   ...     ...       ...          ...        ...        ...        ...   \n",
       "1333   50  30.970         3  10600.54830        0.0        1.0        0.0   \n",
       "1334   18  31.920         0   2205.98080        1.0        0.0        0.0   \n",
       "1335   18  36.850         0   1629.83350        0.0        0.0        1.0   \n",
       "1336   21  25.800         0   2007.94500        0.0        0.0        0.0   \n",
       "1337   61  29.070         0  29141.36030        0.0        1.0        0.0   \n",
       "\n",
       "      northeeast  yes   no  female  male  \n",
       "0            1.0  0.0  1.0     1.0   0.0  \n",
       "1            0.0  1.0  0.0     0.0   1.0  \n",
       "2            0.0  1.0  0.0     0.0   1.0  \n",
       "3            0.0  1.0  0.0     0.0   1.0  \n",
       "4            0.0  1.0  0.0     0.0   1.0  \n",
       "...          ...  ...  ...     ...   ...  \n",
       "1333         0.0  1.0  0.0     0.0   1.0  \n",
       "1334         0.0  1.0  0.0     1.0   0.0  \n",
       "1335         0.0  1.0  0.0     1.0   0.0  \n",
       "1336         1.0  1.0  0.0     1.0   0.0  \n",
       "1337         0.0  0.0  1.0     1.0   0.0  \n",
       "\n",
       "[1338 rows x 12 columns]"
      ]
     },
     "execution_count": 21,
     "metadata": {},
     "output_type": "execute_result"
    }
   ],
   "source": [
    "df"
   ]
  },
  {
   "cell_type": "code",
   "execution_count": 22,
   "id": "91401983",
   "metadata": {},
   "outputs": [],
   "source": [
    "X = df.drop('charges', axis=1)\n",
    "y = df['charges']"
   ]
  },
  {
   "cell_type": "code",
   "execution_count": 23,
   "id": "81e4bfee",
   "metadata": {},
   "outputs": [],
   "source": [
    "from sklearn.model_selection import train_test_split\n",
    "X_train, X_test, y_train, y_test = train_test_split(X, y, test_size = 0.10, random_state = 15)"
   ]
  },
  {
   "cell_type": "code",
   "execution_count": 25,
   "id": "029214da",
   "metadata": {},
   "outputs": [],
   "source": [
    "from sklearn.preprocessing import StandardScaler\n",
    "sc = StandardScaler()\n",
    "X_train = sc.fit_transform(X_train)\n",
    "X_test = sc.transform(X_test)"
   ]
  },
  {
   "cell_type": "code",
   "execution_count": 27,
   "id": "d01987ce",
   "metadata": {},
   "outputs": [],
   "source": [
    "from sklearn.linear_model import LinearRegression\n",
    "reg = LinearRegression()\n",
    "reg.fit(X_train,y_train)\n",
    "y_pred = reg.predict(X_test)"
   ]
  },
  {
   "cell_type": "code",
   "execution_count": 28,
   "id": "f4ba0e16",
   "metadata": {},
   "outputs": [
    {
     "data": {
      "text/plain": [
       "array([ 3.38449816e+04,  2.54546423e+04,  3.77498161e+03,  3.29498161e+03,\n",
       "        2.75098161e+03,  7.86464230e+03,  1.12064230e+03,  3.48946423e+04,\n",
       "        8.28698161e+03,  8.70298161e+03,  3.88064230e+03,  6.18298161e+03,\n",
       "        3.58546423e+04,  3.27506423e+04,  5.43264230e+03,  3.72049816e+04,\n",
       "        2.73809816e+04,  9.14464230e+03,  3.01009816e+04,  8.25664230e+03,\n",
       "        5.52064230e+03,  9.63898161e+03,  3.32698161e+03,  1.82389816e+04,\n",
       "        1.17366423e+04,  8.57498161e+03,  7.56064230e+03,  3.88689816e+04,\n",
       "        3.74298161e+03, -1.70183913e+01,  6.73498161e+03,  9.06464230e+03,\n",
       "        5.39098161e+03,  4.08209816e+04,  6.87264230e+03,  5.52864230e+03,\n",
       "        5.36864230e+03,  3.88064230e+03,  6.26464230e+03,  1.13686423e+04,\n",
       "        7.04864230e+03,  1.04789816e+04,  1.56069816e+04,  2.71898161e+03,\n",
       "        1.08886423e+04,  1.10709816e+04,  1.13846423e+04,  6.36064230e+03,\n",
       "        9.50298161e+03,  2.87249816e+04,  1.27264230e+03,  2.07264230e+03,\n",
       "        8.86298161e+03,  1.00886423e+04,  1.26709816e+04,  2.68306423e+04,\n",
       "        1.20698161e+03,  1.21526423e+04,  4.92064230e+03,  1.53526423e+04,\n",
       "        6.47098161e+03,  3.05809816e+04,  2.53009816e+04,  5.45498161e+03,\n",
       "        3.42546423e+04,  3.67826423e+04,  4.95264230e+03,  1.07509816e+04,\n",
       "        1.14406423e+04,  3.35186423e+04,  1.06309816e+04,  5.04864230e+03,\n",
       "        1.08006423e+04,  1.20246423e+04, -6.50183913e+01,  7.35898161e+03,\n",
       "        3.69106423e+04,  1.33589816e+04,  1.87126423e+04,  9.73664230e+03,\n",
       "        1.26469816e+04,  1.17269816e+04,  3.91186423e+04,  2.44064230e+03,\n",
       "        7.87898161e+03,  2.98449816e+04,  1.58166423e+04,  5.11264230e+03,\n",
       "        1.16469816e+04,  3.92698161e+03,  5.51898161e+03,  6.94298161e+03,\n",
       "        3.98298161e+03,  9.97664230e+03,  9.66298161e+03,  7.67898161e+03,\n",
       "        9.60864230e+03,  1.68309816e+04,  1.29206423e+04,  1.21686423e+04,\n",
       "        1.17046423e+04,  3.42464230e+03,  1.06869816e+04,  7.10464230e+03,\n",
       "        1.40406423e+04,  1.16789816e+04,  1.52406423e+04,  3.20466423e+04,\n",
       "        1.09109816e+04,  3.04064230e+03,  2.68626423e+04,  2.76306423e+04,\n",
       "        3.68864230e+03,  1.15286423e+04,  6.05664230e+03,  5.24698161e+03,\n",
       "        4.13664230e+03,  3.32698161e+03,  4.25498161e+03,  3.53169816e+04,\n",
       "        1.09509816e+04,  1.23989816e+04,  3.76864230e+03,  8.52698161e+03,\n",
       "        1.05829816e+04,  2.92306423e+04,  4.37664230e+03,  1.04886423e+04,\n",
       "        3.50929816e+04,  1.08229816e+04,  1.15606423e+04,  5.80698161e+03,\n",
       "        1.25109816e+04,  1.30486423e+04])"
      ]
     },
     "execution_count": 28,
     "metadata": {},
     "output_type": "execute_result"
    }
   ],
   "source": [
    "y_pred"
   ]
  },
  {
   "cell_type": "code",
   "execution_count": 29,
   "id": "16c26c87",
   "metadata": {},
   "outputs": [
    {
     "data": {
      "text/plain": [
       "75.08151359500039"
      ]
     },
     "execution_count": 29,
     "metadata": {},
     "output_type": "execute_result"
    }
   ],
   "source": [
    "reg.score(X_train,y_train)*100"
   ]
  },
  {
   "cell_type": "code",
   "execution_count": 30,
   "id": "6c25054b",
   "metadata": {},
   "outputs": [
    {
     "data": {
      "text/plain": [
       "74.90130448632473"
      ]
     },
     "execution_count": 30,
     "metadata": {},
     "output_type": "execute_result"
    }
   ],
   "source": [
    "reg.score(X_test,y_test)*100"
   ]
  },
  {
   "cell_type": "code",
   "execution_count": 31,
   "id": "6f7167e9",
   "metadata": {},
   "outputs": [
    {
     "name": "stdout",
     "output_type": "stream",
     "text": [
      "Mean Absolute Error (MAE): 4165.992950618823\n",
      "Mean Square Error (MSE): 34593619.18202081\n",
      "Root Mean Square Error (RMSE): 5881.634057132492\n"
     ]
    }
   ],
   "source": [
    "from sklearn import metrics\n",
    "MAE=metrics.mean_absolute_error(y_test,y_pred)\n",
    "print(\"Mean Absolute Error (MAE):\",MAE)\n",
    "MSE=metrics.mean_squared_error(y_test,y_pred)\n",
    "print(\"Mean Square Error (MSE):\",MSE)\n",
    "RMSE=np.sqrt(metrics.mean_squared_error(y_test,y_pred))\n",
    "print(\"Root Mean Square Error (RMSE):\",RMSE)"
   ]
  },
  {
   "cell_type": "code",
   "execution_count": 32,
   "id": "e070b755",
   "metadata": {},
   "outputs": [
    {
     "data": {
      "text/plain": [
       "0.7490130448632473"
      ]
     },
     "execution_count": 32,
     "metadata": {},
     "output_type": "execute_result"
    }
   ],
   "source": [
    "from sklearn.metrics import r2_score\n",
    "r2_score(y_test,y_pred)"
   ]
  },
  {
   "cell_type": "code",
   "execution_count": 33,
   "id": "1eb6d5c6",
   "metadata": {},
   "outputs": [],
   "source": [
    "from sklearn.linear_model import Lasso"
   ]
  },
  {
   "cell_type": "code",
   "execution_count": 47,
   "id": "4b977454",
   "metadata": {},
   "outputs": [],
   "source": [
    "lasso = Lasso(alpha=0.0001)\n",
    "lasso.fit(X_train, y_train)\n",
    "y_pred = lasso.predict(X_test)"
   ]
  },
  {
   "cell_type": "code",
   "execution_count": 48,
   "id": "99dd9139",
   "metadata": {},
   "outputs": [
    {
     "name": "stdout",
     "output_type": "stream",
     "text": [
      "Alpha:0.0001\n",
      ",train_score:75.080000,R2:74.920000,MAE:4174.756928,MSE:34562021.514382,RMSE:5878.947313\n",
      "Alpha:0.0010\n",
      ",train_score:75.080000,R2:74.920000,MAE:4174.756928,MSE:34562021.514382,RMSE:5878.947313\n",
      "Alpha:0.0100\n",
      ",train_score:75.080000,R2:74.920000,MAE:4174.756928,MSE:34562021.514382,RMSE:5878.947313\n",
      "Alpha:0.1000\n",
      ",train_score:75.080000,R2:74.920000,MAE:4174.756928,MSE:34562021.514382,RMSE:5878.947313\n",
      "Alpha:0.3000\n",
      ",train_score:75.080000,R2:74.920000,MAE:4174.756928,MSE:34562021.514382,RMSE:5878.947313\n",
      "Alpha:0.5000\n",
      ",train_score:75.080000,R2:74.920000,MAE:4174.756928,MSE:34562021.514382,RMSE:5878.947313\n",
      "Alpha:0.7000\n",
      ",train_score:75.080000,R2:74.920000,MAE:4174.756928,MSE:34562021.514382,RMSE:5878.947313\n",
      "Alpha:0.9000\n",
      ",train_score:75.080000,R2:74.930000,MAE:4174.756928,MSE:34562021.514382,RMSE:5878.947313\n",
      "Alpha:1.0000\n",
      ",train_score:75.080000,R2:74.930000,MAE:4174.756928,MSE:34562021.514382,RMSE:5878.947313\n",
      "Alpha:10.0000\n",
      ",train_score:75.080000,R2:74.930000,MAE:4174.756928,MSE:34562021.514382,RMSE:5878.947313\n",
      "Alpha:100.0000\n",
      ",train_score:75.030000,R2:74.900000,MAE:4174.756928,MSE:34562021.514382,RMSE:5878.947313\n"
     ]
    }
   ],
   "source": [
    "alphas = [0.0001,0.001,0.01,0.1,0.3,0.5,0.7,0.9,1,10,100]\n",
    "for a in alphas:\n",
    "    model= Lasso(alpha=a).fit(X_train,y_train)\n",
    "    train_score = round(model.score(X_train,y_train)*100,2)\n",
    "    score = round(model.score(X_test,y_test)*100,2)\n",
    "    Y_pred = model.predict(X_test)\n",
    "    mae=metrics.mean_absolute_error(y_test,y_pred)\n",
    "    Mse=metrics.mean_squared_error(y_test,y_pred)\n",
    "    print(\"Alpha:{0:.4f}\\n,train_score:{1:4f},R2:{2:4f},MAE:{3:4f},MSE:{4:4f},RMSE:{5:4f}\"\n",
    "         .format(a,train_score,score,mae,Mse,np.sqrt(Mse)))"
   ]
  },
  {
   "cell_type": "code",
   "execution_count": 49,
   "id": "31b5d573",
   "metadata": {},
   "outputs": [
    {
     "data": {
      "text/plain": [
       "array([33807.82055757, 25449.4159918 ,  3860.57710567,  3281.70624944,\n",
       "        2739.7039794 ,  7948.24297894,  1122.66362272, 34967.76063554,\n",
       "        8262.5653406 ,  8677.30309695,  3991.93793878,  6175.96630943,\n",
       "       35828.48918233, 32745.07152289,  5520.1550982 , 37145.54384256,\n",
       "       27328.16258259,  9126.80553107, 30138.3245806 ,  8278.00982203,\n",
       "        5550.33190502,  9624.79819426,  3305.84605204, 18347.01877407,\n",
       "       11732.07630996,  8661.35415737,  7529.76450164, 38780.54340544,\n",
       "        3711.46182386,    44.90265317,  6789.27391612,  9142.87216657,\n",
       "        5358.75842738, 40859.91641849,  6880.19923779,  5643.77246285,\n",
       "        5359.79399482,  3888.56441466,  6367.9252098 , 11348.04235914,\n",
       "        7126.18589172, 10441.90175331, 15621.32858312,  2709.76251329,\n",
       "       10951.75464438, 11140.26666009, 11349.73934491,  6444.83809619,\n",
       "        9580.33891805, 28656.19343558,  1270.58987797,  2040.2766285 ,\n",
       "        8853.72574257, 10182.69891459, 12743.07527267, 26907.61887668,\n",
       "        1202.9614898 , 12143.32646308,  4945.20598979, 15357.16113671,\n",
       "        6470.23953624, 30503.32100931, 25272.01408006,  5418.28573732,\n",
       "       34192.99729036, 36828.44440214,  5035.36210778, 10734.15286782,\n",
       "       11448.76584721, 33475.65677236, 10629.42693812,  5041.80026197,\n",
       "       10814.91049327, 12113.99868841,   -97.33842684,  7336.90227287,\n",
       "       36877.10621507, 13335.22479895, 18798.3255902 ,  9725.61433363,\n",
       "       12669.80752795, 11702.83431259, 39093.92708079,  2450.70832256,\n",
       "        7889.05920956, 29849.18564759, 15931.17253047,  5111.29003277,\n",
       "       11633.71769493,  3947.54201237,  5545.618817  ,  6993.10226723,\n",
       "        4044.91339246,  9970.64822333,  9727.86781166,  7643.1985087 ,\n",
       "        9585.25238946, 16925.32426733, 12903.92927948, 12161.72018347,\n",
       "       11705.71661713,  3467.65173734, 10655.67034427,  7106.83141347,\n",
       "       14037.07442062, 11644.90981838, 15334.7572919 , 31981.14389906,\n",
       "       10982.31795865,  3077.65430862, 26779.70829266, 27622.09423155,\n",
       "        3644.46068493, 11501.29341252,  6024.99415123,  5200.9353731 ,\n",
       "        4207.38338142,  3302.15257787,  4342.07199603, 35329.2124634 ,\n",
       "       10954.01516962, 12381.82262447,  3785.81285672,  8603.33190851,\n",
       "       10614.02031921, 29273.11042076,  4372.77441094, 10490.37794738,\n",
       "       35133.85772693, 10846.3404749 , 11561.90512013,  5811.83534535,\n",
       "       12478.30519574, 13109.89633548])"
      ]
     },
     "execution_count": 49,
     "metadata": {},
     "output_type": "execute_result"
    }
   ],
   "source": [
    "y_pred"
   ]
  },
  {
   "cell_type": "code",
   "execution_count": 50,
   "id": "a3cc7f80",
   "metadata": {},
   "outputs": [
    {
     "data": {
      "text/plain": [
       "75.08449113651834"
      ]
     },
     "execution_count": 50,
     "metadata": {},
     "output_type": "execute_result"
    }
   ],
   "source": [
    "lasso.score(X_train,y_train)*100"
   ]
  },
  {
   "cell_type": "code",
   "execution_count": 51,
   "id": "1e6e2e10",
   "metadata": {},
   "outputs": [
    {
     "data": {
      "text/plain": [
       "74.92422953024247"
      ]
     },
     "execution_count": 51,
     "metadata": {},
     "output_type": "execute_result"
    }
   ],
   "source": [
    "lasso.score(X_test,y_test)*100"
   ]
  },
  {
   "cell_type": "code",
   "execution_count": 52,
   "id": "0c82ecdf",
   "metadata": {},
   "outputs": [
    {
     "data": {
      "text/plain": [
       "0.7492422953024247"
      ]
     },
     "execution_count": 52,
     "metadata": {},
     "output_type": "execute_result"
    }
   ],
   "source": [
    "r2_score(y_test,y_pred)"
   ]
  },
  {
   "cell_type": "code",
   "execution_count": 53,
   "id": "27f2636d",
   "metadata": {},
   "outputs": [],
   "source": [
    "from sklearn.linear_model import Ridge\n",
    "ridgeR = Ridge(alpha=0.0001)\n",
    "ridgeR.fit(X_train, y_train)\n",
    "y_pred = ridgeR.predict(X_test)"
   ]
  },
  {
   "cell_type": "code",
   "execution_count": 54,
   "id": "91d4b123",
   "metadata": {},
   "outputs": [],
   "source": [
    "y_pred = ridgeR.predict(X_test)"
   ]
  },
  {
   "cell_type": "code",
   "execution_count": 55,
   "id": "25be9f97",
   "metadata": {},
   "outputs": [
    {
     "data": {
      "text/plain": [
       "75.08449113651821"
      ]
     },
     "execution_count": 55,
     "metadata": {},
     "output_type": "execute_result"
    }
   ],
   "source": [
    "#Training Score\n",
    "ridgeR.score(X_train,y_train)*100"
   ]
  },
  {
   "cell_type": "code",
   "execution_count": 56,
   "id": "5718bdc6",
   "metadata": {},
   "outputs": [
    {
     "data": {
      "text/plain": [
       "74.92422951868541"
      ]
     },
     "execution_count": 56,
     "metadata": {},
     "output_type": "execute_result"
    }
   ],
   "source": [
    "#Testing score\n",
    "ridgeR.score(X_test,y_test)*100"
   ]
  },
  {
   "cell_type": "code",
   "execution_count": 57,
   "id": "c9bf7bca",
   "metadata": {},
   "outputs": [
    {
     "data": {
      "text/plain": [
       "0.749242295186854"
      ]
     },
     "execution_count": 57,
     "metadata": {},
     "output_type": "execute_result"
    }
   ],
   "source": [
    "r2_score(y_test,y_pred)"
   ]
  },
  {
   "cell_type": "code",
   "execution_count": 58,
   "id": "841d8922",
   "metadata": {},
   "outputs": [],
   "source": [
    "from sklearn.ensemble import GradientBoostingRegressor"
   ]
  },
  {
   "cell_type": "code",
   "execution_count": 60,
   "id": "0ecdf497",
   "metadata": {},
   "outputs": [],
   "source": [
    "GBR=GradientBoostingRegressor()\n",
    "search_grid={'n_estimators':[100,200,300,400,500],'learning_rate':[.0001,.001,0.01,0.2,0.3,0.5,0.7,0.10],'max_depth':[5,10,20,15],'subsample':[.5,.75,1],'random_state':[1]}\n",
    "search=GridSearchCV(estimator=GBR,param_grid=search_grid,scoring='neg_mean_squared_error',n_jobs=1,cv=3)"
   ]
  },
  {
   "cell_type": "code",
   "execution_count": 61,
   "id": "126345ba",
   "metadata": {},
   "outputs": [
    {
     "data": {
      "text/plain": [
       "{'learning_rate': 0.01,\n",
       " 'max_depth': 5,\n",
       " 'n_estimators': 300,\n",
       " 'random_state': 1,\n",
       " 'subsample': 0.5}"
      ]
     },
     "execution_count": 61,
     "metadata": {},
     "output_type": "execute_result"
    }
   ],
   "source": [
    "search.fit(X_train,y_train)\n",
    "search.best_params_"
   ]
  },
  {
   "cell_type": "code",
   "execution_count": 62,
   "id": "5dcafdf8",
   "metadata": {},
   "outputs": [
    {
     "data": {
      "text/html": [
       "<style>#sk-container-id-2 {color: black;background-color: white;}#sk-container-id-2 pre{padding: 0;}#sk-container-id-2 div.sk-toggleable {background-color: white;}#sk-container-id-2 label.sk-toggleable__label {cursor: pointer;display: block;width: 100%;margin-bottom: 0;padding: 0.3em;box-sizing: border-box;text-align: center;}#sk-container-id-2 label.sk-toggleable__label-arrow:before {content: \"▸\";float: left;margin-right: 0.25em;color: #696969;}#sk-container-id-2 label.sk-toggleable__label-arrow:hover:before {color: black;}#sk-container-id-2 div.sk-estimator:hover label.sk-toggleable__label-arrow:before {color: black;}#sk-container-id-2 div.sk-toggleable__content {max-height: 0;max-width: 0;overflow: hidden;text-align: left;background-color: #f0f8ff;}#sk-container-id-2 div.sk-toggleable__content pre {margin: 0.2em;color: black;border-radius: 0.25em;background-color: #f0f8ff;}#sk-container-id-2 input.sk-toggleable__control:checked~div.sk-toggleable__content {max-height: 200px;max-width: 100%;overflow: auto;}#sk-container-id-2 input.sk-toggleable__control:checked~label.sk-toggleable__label-arrow:before {content: \"▾\";}#sk-container-id-2 div.sk-estimator input.sk-toggleable__control:checked~label.sk-toggleable__label {background-color: #d4ebff;}#sk-container-id-2 div.sk-label input.sk-toggleable__control:checked~label.sk-toggleable__label {background-color: #d4ebff;}#sk-container-id-2 input.sk-hidden--visually {border: 0;clip: rect(1px 1px 1px 1px);clip: rect(1px, 1px, 1px, 1px);height: 1px;margin: -1px;overflow: hidden;padding: 0;position: absolute;width: 1px;}#sk-container-id-2 div.sk-estimator {font-family: monospace;background-color: #f0f8ff;border: 1px dotted black;border-radius: 0.25em;box-sizing: border-box;margin-bottom: 0.5em;}#sk-container-id-2 div.sk-estimator:hover {background-color: #d4ebff;}#sk-container-id-2 div.sk-parallel-item::after {content: \"\";width: 100%;border-bottom: 1px solid gray;flex-grow: 1;}#sk-container-id-2 div.sk-label:hover label.sk-toggleable__label {background-color: #d4ebff;}#sk-container-id-2 div.sk-serial::before {content: \"\";position: absolute;border-left: 1px solid gray;box-sizing: border-box;top: 0;bottom: 0;left: 50%;z-index: 0;}#sk-container-id-2 div.sk-serial {display: flex;flex-direction: column;align-items: center;background-color: white;padding-right: 0.2em;padding-left: 0.2em;position: relative;}#sk-container-id-2 div.sk-item {position: relative;z-index: 1;}#sk-container-id-2 div.sk-parallel {display: flex;align-items: stretch;justify-content: center;background-color: white;position: relative;}#sk-container-id-2 div.sk-item::before, #sk-container-id-2 div.sk-parallel-item::before {content: \"\";position: absolute;border-left: 1px solid gray;box-sizing: border-box;top: 0;bottom: 0;left: 50%;z-index: -1;}#sk-container-id-2 div.sk-parallel-item {display: flex;flex-direction: column;z-index: 1;position: relative;background-color: white;}#sk-container-id-2 div.sk-parallel-item:first-child::after {align-self: flex-end;width: 50%;}#sk-container-id-2 div.sk-parallel-item:last-child::after {align-self: flex-start;width: 50%;}#sk-container-id-2 div.sk-parallel-item:only-child::after {width: 0;}#sk-container-id-2 div.sk-dashed-wrapped {border: 1px dashed gray;margin: 0 0.4em 0.5em 0.4em;box-sizing: border-box;padding-bottom: 0.4em;background-color: white;}#sk-container-id-2 div.sk-label label {font-family: monospace;font-weight: bold;display: inline-block;line-height: 1.2em;}#sk-container-id-2 div.sk-label-container {text-align: center;}#sk-container-id-2 div.sk-container {/* jupyter's `normalize.less` sets `[hidden] { display: none; }` but bootstrap.min.css set `[hidden] { display: none !important; }` so we also need the `!important` here to be able to override the default hidden behavior on the sphinx rendered scikit-learn.org. See: https://github.com/scikit-learn/scikit-learn/issues/21755 */display: inline-block !important;position: relative;}#sk-container-id-2 div.sk-text-repr-fallback {display: none;}</style><div id=\"sk-container-id-2\" class=\"sk-top-container\"><div class=\"sk-text-repr-fallback\"><pre>GradientBoostingRegressor(learning_rate=0.01, max_depth=5, n_estimators=300,\n",
       "                          random_state=1, subsample=0.5)</pre><b>In a Jupyter environment, please rerun this cell to show the HTML representation or trust the notebook. <br />On GitHub, the HTML representation is unable to render, please try loading this page with nbviewer.org.</b></div><div class=\"sk-container\" hidden><div class=\"sk-item\"><div class=\"sk-estimator sk-toggleable\"><input class=\"sk-toggleable__control sk-hidden--visually\" id=\"sk-estimator-id-2\" type=\"checkbox\" checked><label for=\"sk-estimator-id-2\" class=\"sk-toggleable__label sk-toggleable__label-arrow\">GradientBoostingRegressor</label><div class=\"sk-toggleable__content\"><pre>GradientBoostingRegressor(learning_rate=0.01, max_depth=5, n_estimators=300,\n",
       "                          random_state=1, subsample=0.5)</pre></div></div></div></div></div>"
      ],
      "text/plain": [
       "GradientBoostingRegressor(learning_rate=0.01, max_depth=5, n_estimators=300,\n",
       "                          random_state=1, subsample=0.5)"
      ]
     },
     "execution_count": 62,
     "metadata": {},
     "output_type": "execute_result"
    }
   ],
   "source": [
    "reg=GradientBoostingRegressor(n_estimators=300,learning_rate=0.01,subsample=0.5,max_depth=5,random_state=1)\n",
    "reg.fit(X_train, y_train)"
   ]
  },
  {
   "cell_type": "code",
   "execution_count": 64,
   "id": "db7a0790",
   "metadata": {},
   "outputs": [],
   "source": [
    "y_pred1 = reg.predict(X_test)"
   ]
  },
  {
   "cell_type": "code",
   "execution_count": 65,
   "id": "89fbbd00",
   "metadata": {},
   "outputs": [
    {
     "data": {
      "text/plain": [
       "91.35234791106525"
      ]
     },
     "execution_count": 65,
     "metadata": {},
     "output_type": "execute_result"
    }
   ],
   "source": [
    "reg.score(X_train,y_train)*100"
   ]
  },
  {
   "cell_type": "code",
   "execution_count": 66,
   "id": "12a67bb2",
   "metadata": {},
   "outputs": [
    {
     "data": {
      "text/plain": [
       "85.06189920966808"
      ]
     },
     "execution_count": 66,
     "metadata": {},
     "output_type": "execute_result"
    }
   ],
   "source": [
    "reg.score(X_test,y_test)*100"
   ]
  },
  {
   "cell_type": "code",
   "execution_count": 67,
   "id": "719be4aa",
   "metadata": {},
   "outputs": [
    {
     "name": "stdout",
     "output_type": "stream",
     "text": [
      "Mean Absolute Error (MAE): 2655.143324284398\n",
      "Mean Square Error (MSE): 20589236.19204922\n",
      "Root Mean Square Error (RMSE): 4537.536357104946\n"
     ]
    }
   ],
   "source": [
    "from sklearn import metrics\n",
    "MAE=metrics.mean_absolute_error(y_test,y_pred1)\n",
    "print(\"Mean Absolute Error (MAE):\",MAE)\n",
    "MSE=metrics.mean_squared_error(y_test,y_pred1)\n",
    "print(\"Mean Square Error (MSE):\",MSE)\n",
    "RMSE=np.sqrt(metrics.mean_squared_error(y_test,y_pred1))\n",
    "print(\"Root Mean Square Error (RMSE):\",RMSE)"
   ]
  },
  {
   "cell_type": "code",
   "execution_count": 68,
   "id": "4cfc5bdb",
   "metadata": {},
   "outputs": [
    {
     "data": {
      "text/plain": [
       "0.8506189920966809"
      ]
     },
     "execution_count": 68,
     "metadata": {},
     "output_type": "execute_result"
    }
   ],
   "source": [
    "r2_score(y_test,y_pred1)"
   ]
  },
  {
   "cell_type": "code",
   "execution_count": null,
   "id": "86e9063b",
   "metadata": {},
   "outputs": [],
   "source": []
  }
 ],
 "metadata": {
  "kernelspec": {
   "display_name": "Python 3 (ipykernel)",
   "language": "python",
   "name": "python3"
  },
  "language_info": {
   "codemirror_mode": {
    "name": "ipython",
    "version": 3
   },
   "file_extension": ".py",
   "mimetype": "text/x-python",
   "name": "python",
   "nbconvert_exporter": "python",
   "pygments_lexer": "ipython3",
   "version": "3.9.7"
  }
 },
 "nbformat": 4,
 "nbformat_minor": 5
}
